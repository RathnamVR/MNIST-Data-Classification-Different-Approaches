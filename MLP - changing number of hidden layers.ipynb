{
 "cells": [
  {
   "cell_type": "code",
   "execution_count": 35,
   "metadata": {},
   "outputs": [],
   "source": [
    "import numpy as np\n",
    "import torch.nn as nn\n",
    "import torch\n",
    "import torch.nn.functional as F\n",
    "from torchvision import datasets, transforms"
   ]
  },
  {
   "cell_type": "code",
   "execution_count": 36,
   "metadata": {},
   "outputs": [],
   "source": [
    "mnist_train = datasets.MNIST(root=\"./datasets\", train=True, transform=transforms.ToTensor(), download=True)\n",
    "mnist_test = datasets.MNIST(root=\"./datasets\", train=False, transform=transforms.ToTensor(), download=True)\n",
    "train_loader = torch.utils.data.DataLoader(mnist_train, batch_size=100, shuffle=True)\n",
    "test_loader = torch.utils.data.DataLoader(mnist_test, batch_size=100, shuffle=False)"
   ]
  },
  {
   "cell_type": "code",
   "execution_count": 37,
   "metadata": {},
   "outputs": [],
   "source": [
    "acc=[]\n",
    "acc_epoch=[]"
   ]
  },
  {
   "cell_type": "code",
   "execution_count": 50,
   "metadata": {},
   "outputs": [
    {
     "name": "stdout",
     "output_type": "stream",
     "text": [
      "tensor(0.8888)\n",
      "Wall time: 1min 11s\n"
     ]
    }
   ],
   "source": [
    "%%time\n",
    "w1=torch.randn(784,5)/np.sqrt(784)\n",
    "w1.requires_grad_()\n",
    "b1=torch.zeros(5, requires_grad=True)\n",
    "w2=torch.randn(5,10)/np.sqrt(5)\n",
    "w2.requires_grad_()\n",
    "b2=torch.zeros(10,requires_grad=True) \n",
    "optimizer = torch.optim.SGD([w1,b1,w2,b2], lr=0.1)\n",
    "for t in range(4):\n",
    "    for images, labels in train_loader:\n",
    "        x = images.view(-1, 28*28)\n",
    "        optimizer.zero_grad()\n",
    "        y=torch.matmul(x,w1) + b1\n",
    "        y_relu = F.relu(y)\n",
    "        z=torch.matmul(y_relu,w2)+b2\n",
    "        cross_entropy = F.cross_entropy(z, labels)\n",
    "        cross_entropy.backward(retain_graph=True)\n",
    "        optimizer.step()\n",
    "#test set\n",
    "correct = 0\n",
    "total = len(mnist_test)\n",
    "with torch.no_grad():\n",
    "    for images, labels in test_loader:\n",
    "        x = images.view(-1, 28*28)\n",
    "        y=torch.matmul(x,w1) + b1\n",
    "        y_relu = F.relu(y)\n",
    "        z=torch.matmul(y_relu,w2)+b2\n",
    "        predictions = torch.argmax(z, dim=1)\n",
    "        correct += torch.sum((predictions == labels).float())\n",
    "acc_epoch.append(correct/total)\n",
    "print(correct/total)"
   ]
  },
  {
   "cell_type": "code",
   "execution_count": 53,
   "metadata": {},
   "outputs": [
    {
     "name": "stdout",
     "output_type": "stream",
     "text": [
      "tensor(0.8928)\n",
      "Wall time: 2min\n"
     ]
    }
   ],
   "source": [
    "%%time\n",
    "w1=torch.randn(784,5)/np.sqrt(784)\n",
    "w1.requires_grad_()\n",
    "b1=torch.zeros(5, requires_grad=True)\n",
    "w2=torch.randn(5,12)/np.sqrt(5)\n",
    "w2.requires_grad_()\n",
    "b2=torch.zeros(12,requires_grad=True) \n",
    "w3=torch.randn(12,10)/np.sqrt(12)\n",
    "w3.requires_grad_()\n",
    "b3=torch.zeros(10,requires_grad=True) \n",
    "optimizer = torch.optim.SGD([w1,b1,w2,b2,w3,b3], lr=0.1)\n",
    "for t in range(7):\n",
    "    for images, labels in train_loader:\n",
    "        x = images.view(-1, 28*28)\n",
    "        optimizer.zero_grad()\n",
    "        y=torch.matmul(x,w1) + b1\n",
    "        y_relu = F.relu(y)\n",
    "        y1=torch.matmul(y_relu,w2)+b2\n",
    "        y1_relu=F.relu(y1)\n",
    "        z=torch.matmul(y1_relu,w3)+b3\n",
    "        cross_entropy = F.cross_entropy(z, labels)\n",
    "        cross_entropy.backward(retain_graph=True)\n",
    "        optimizer.step()\n",
    "  #test set\n",
    "correct = 0\n",
    "total = len(mnist_test)\n",
    "with torch.no_grad():\n",
    "    for images, labels in test_loader:\n",
    "        x = images.view(-1, 28*28)\n",
    "        y=torch.matmul(x,w1) + b1\n",
    "        y_relu = F.relu(y)\n",
    "        y1=torch.matmul(y_relu,w2)+b2\n",
    "        y1_relu=F.relu(y1)\n",
    "        z=torch.matmul(y1_relu,w3)+b3\n",
    "        predictions = torch.argmax(z, dim=1)\n",
    "        correct += torch.sum((predictions == labels).float())\n",
    "acc_epoch.append(correct/total)\n",
    "print(correct/total)"
   ]
  },
  {
   "cell_type": "code",
   "execution_count": 54,
   "metadata": {},
   "outputs": [
    {
     "name": "stdout",
     "output_type": "stream",
     "text": [
      "tensor(0.8888)\n",
      "Wall time: 2min 36s\n"
     ]
    }
   ],
   "source": [
    "%%time\n",
    "w1=torch.randn(784,5)/np.sqrt(784)\n",
    "w1.requires_grad_()\n",
    "b1=torch.zeros(5, requires_grad=True)\n",
    "w2=torch.randn(5,12)/np.sqrt(5)\n",
    "w2.requires_grad_()\n",
    "b2=torch.zeros(12,requires_grad=True) \n",
    "w3=torch.randn(12,6)/np.sqrt(12)\n",
    "w3.requires_grad_()\n",
    "b3=torch.zeros(6,requires_grad=True) \n",
    "w4=torch.randn(6,10)/np.sqrt(6)\n",
    "w4.requires_grad_()\n",
    "b4=torch.zeros(10,requires_grad=True) \n",
    "optimizer = torch.optim.SGD([w1,b1,w2,b2,w3,b3,w4,b4], lr=0.1)\n",
    "for t in range(9):\n",
    "    for images, labels in train_loader:\n",
    "        x = images.view(-1, 28*28)\n",
    "        optimizer.zero_grad()\n",
    "        y=torch.matmul(x,w1) + b1\n",
    "        y_relu = F.relu(y)\n",
    "        y1=torch.matmul(y_relu,w2)+b2\n",
    "        y1_relu=F.relu(y1)\n",
    "        y2=torch.matmul(y1_relu,w3)+b3\n",
    "        y2_relu=F.relu(y2)\n",
    "        z=torch.matmul(y2_relu,w4)+b4\n",
    "        \n",
    "        cross_entropy = F.cross_entropy(z, labels)\n",
    "        cross_entropy.backward(retain_graph=True)\n",
    "        optimizer.step()\n",
    "  #test set\n",
    "correct = 0\n",
    "total = len(mnist_test)\n",
    "with torch.no_grad():\n",
    "    for images, labels in test_loader:\n",
    "        x = images.view(-1, 28*28)\n",
    "        y=torch.matmul(x,w1) + b1\n",
    "        y_relu = F.relu(y)\n",
    "        y1=torch.matmul(y_relu,w2)+b2\n",
    "        y1_relu=F.relu(y1)\n",
    "        y2=torch.matmul(y1_relu,w3)+b3\n",
    "        y2_relu=F.relu(y2)\n",
    "        z=torch.matmul(y2_relu,w4)+b4\n",
    "        predictions = torch.argmax(z, dim=1)\n",
    "        correct += torch.sum((predictions == labels).float())\n",
    "acc_epoch.append(correct/total)\n",
    "print(correct/total)"
   ]
  },
  {
   "cell_type": "code",
   "execution_count": 55,
   "metadata": {},
   "outputs": [
    {
     "name": "stdout",
     "output_type": "stream",
     "text": [
      "tensor(0.8894)\n",
      "Wall time: 3min 11s\n"
     ]
    }
   ],
   "source": [
    "%%time\n",
    "w1=torch.randn(784,5)/np.sqrt(784)\n",
    "w1.requires_grad_()\n",
    "b1=torch.zeros(5, requires_grad=True)\n",
    "w2=torch.randn(5,12)/np.sqrt(5)\n",
    "w2.requires_grad_()\n",
    "b2=torch.zeros(12,requires_grad=True) \n",
    "w3=torch.randn(12,6)/np.sqrt(12)\n",
    "w3.requires_grad_()\n",
    "b3=torch.zeros(6,requires_grad=True) \n",
    "w4=torch.randn(6,11)/np.sqrt(6)\n",
    "w4.requires_grad_()\n",
    "b4=torch.zeros(11,requires_grad=True) \n",
    "w5=torch.randn(11,10)/np.sqrt(11)\n",
    "w5.requires_grad_()\n",
    "b5=torch.zeros(10,requires_grad=True) \n",
    "\n",
    "optimizer = torch.optim.SGD([w1,b1,w2,b2,w3,b3,w4,b4,w5,b5], lr=0.1)\n",
    "for t in range(11):\n",
    "    for images, labels in train_loader:\n",
    "        x = images.view(-1, 28*28)\n",
    "        optimizer.zero_grad()\n",
    "        y=torch.matmul(x,w1) + b1\n",
    "        y_relu = F.relu(y)\n",
    "        y1=torch.matmul(y_relu,w2)+b2\n",
    "        y1_relu=F.relu(y1)\n",
    "        y2=torch.matmul(y1_relu,w3)+b3\n",
    "        y2_relu=F.relu(y2)\n",
    "        y3=torch.matmul(y2_relu,w4)+b4\n",
    "        y3_relu=F.relu(y3)\n",
    "        z=torch.matmul(y3_relu,w5)+b5\n",
    "        cross_entropy = F.cross_entropy(z, labels)\n",
    "        cross_entropy.backward(retain_graph=True)\n",
    "        optimizer.step()\n",
    "  #test set\n",
    "correct = 0\n",
    "total = len(mnist_test)\n",
    "with torch.no_grad():\n",
    "    for images, labels in test_loader:\n",
    "        x = images.view(-1, 28*28)\n",
    "        y=torch.matmul(x,w1) + b1\n",
    "        y_relu = F.relu(y)\n",
    "        y1=torch.matmul(y_relu,w2)+b2\n",
    "        y1_relu=F.relu(y1)\n",
    "        y2=torch.matmul(y1_relu,w3)+b3\n",
    "        y2_relu=F.relu(y2)\n",
    "        y3=torch.matmul(y2_relu,w4)+b4\n",
    "        y3_relu=F.relu(y3)\n",
    "        z=torch.matmul(y3_relu,w5)+b5\n",
    "        predictions = torch.argmax(z, dim=1)\n",
    "        correct += torch.sum((predictions == labels).float())\n",
    "acc_epoch.append(correct/total)\n",
    "print(correct/total)"
   ]
  },
  {
   "cell_type": "code",
   "execution_count": 56,
   "metadata": {},
   "outputs": [
    {
     "name": "stdout",
     "output_type": "stream",
     "text": [
      "tensor(0.8905)\n",
      "Wall time: 4min 5s\n"
     ]
    }
   ],
   "source": [
    "%%time\n",
    "w1=torch.randn(784,5)/np.sqrt(784)\n",
    "w1.requires_grad_()\n",
    "b1=torch.zeros(5, requires_grad=True)\n",
    "w2=torch.randn(5,12)/np.sqrt(5)\n",
    "w2.requires_grad_()\n",
    "b2=torch.zeros(12,requires_grad=True) \n",
    "w3=torch.randn(12,6)/np.sqrt(12)\n",
    "w3.requires_grad_()\n",
    "b3=torch.zeros(6,requires_grad=True) \n",
    "w4=torch.randn(6,11)/np.sqrt(6)\n",
    "w4.requires_grad_()\n",
    "b4=torch.zeros(11,requires_grad=True) \n",
    "w5=torch.randn(11,7)/np.sqrt(11)\n",
    "w5.requires_grad_()\n",
    "b5=torch.zeros(7,requires_grad=True) \n",
    "w6=torch.randn(7,10)/np.sqrt(7)\n",
    "w6.requires_grad_()\n",
    "b6=torch.zeros(10,requires_grad=True) \n",
    "optimizer = torch.optim.SGD([w1,b1,w2,b2,w3,b3,w4,b4,w5,b5,w6,b6], lr=0.1)\n",
    "for t in range(14):\n",
    "    for images, labels in train_loader:\n",
    "        x = images.view(-1, 28*28)\n",
    "        optimizer.zero_grad()\n",
    "        y=torch.matmul(x,w1) + b1\n",
    "        y_relu = F.relu(y)\n",
    "        y1=torch.matmul(y_relu,w2)+b2\n",
    "        y1_relu=F.relu(y1)\n",
    "        y2=torch.matmul(y1_relu,w3)+b3\n",
    "        y2_relu=F.relu(y2)\n",
    "        y3=torch.matmul(y2_relu,w4)+b4\n",
    "        y3_relu=F.relu(y3)\n",
    "        y4=torch.matmul(y3_relu,w5)+b5\n",
    "        y4_relu=F.relu(y4)\n",
    "        z=torch.matmul(y4_relu,w6)+b6\n",
    "        cross_entropy = F.cross_entropy(z, labels)\n",
    "        cross_entropy.backward(retain_graph=True)\n",
    "        optimizer.step()\n",
    "  #test set\n",
    "correct = 0\n",
    "total = len(mnist_test)\n",
    "with torch.no_grad():\n",
    "    for images, labels in test_loader:\n",
    "        x = images.view(-1, 28*28)\n",
    "        y=torch.matmul(x,w1) + b1\n",
    "        y_relu = F.relu(y)\n",
    "        y1=torch.matmul(y_relu,w2)+b2\n",
    "        y1_relu=F.relu(y1)\n",
    "        y2=torch.matmul(y1_relu,w3)+b3\n",
    "        y2_relu=F.relu(y2)\n",
    "        y3=torch.matmul(y2_relu,w4)+b4\n",
    "        y3_relu=F.relu(y3)\n",
    "        y4=torch.matmul(y3_relu,w5)+b5\n",
    "        y4_relu=F.relu(y4)\n",
    "        z=torch.matmul(y4_relu,w6)+b6\n",
    "        predictions = torch.argmax(z, dim=1)\n",
    "        correct += torch.sum((predictions == labels).float())\n",
    "acc_epoch.append(correct/total)\n",
    "print(correct/total)"
   ]
  },
  {
   "cell_type": "code",
   "execution_count": 57,
   "metadata": {},
   "outputs": [
    {
     "name": "stdout",
     "output_type": "stream",
     "text": [
      "tensor(0.8861)\n",
      "Wall time: 5min 17s\n"
     ]
    }
   ],
   "source": [
    "%%time\n",
    "w1=torch.randn(784,5)/np.sqrt(784)\n",
    "w1.requires_grad_()\n",
    "b1=torch.zeros(5, requires_grad=True)\n",
    "w2=torch.randn(5,12)/np.sqrt(5)\n",
    "w2.requires_grad_()\n",
    "b2=torch.zeros(12,requires_grad=True) \n",
    "w3=torch.randn(12,6)/np.sqrt(12)\n",
    "w3.requires_grad_()\n",
    "b3=torch.zeros(6,requires_grad=True) \n",
    "w4=torch.randn(6,11)/np.sqrt(6)\n",
    "w4.requires_grad_()\n",
    "b4=torch.zeros(11,requires_grad=True) \n",
    "w5=torch.randn(11,7)/np.sqrt(11)\n",
    "w5.requires_grad_()\n",
    "b5=torch.zeros(7,requires_grad=True) \n",
    "w6=torch.randn(7,10)/np.sqrt(7)\n",
    "w6.requires_grad_()\n",
    "b6=torch.zeros(10,requires_grad=True) \n",
    "w7=torch.randn(10,10)/np.sqrt(7)\n",
    "w7.requires_grad_()\n",
    "b7=torch.zeros(10,requires_grad=True) \n",
    "optimizer = torch.optim.SGD([w1,b1,w2,b2,w3,b3,w4,b4,w5,b5,w6,b6,w7,b7], lr=0.1)\n",
    "for t in range(18):\n",
    "    for images, labels in train_loader:\n",
    "        x = images.view(-1, 28*28)\n",
    "        optimizer.zero_grad()\n",
    "        y=torch.matmul(x,w1) + b1\n",
    "        y_relu = F.relu(y)\n",
    "        y1=torch.matmul(y_relu,w2)+b2\n",
    "        y1_relu=F.relu(y1)\n",
    "        y2=torch.matmul(y1_relu,w3)+b3\n",
    "        y2_relu=F.relu(y2)\n",
    "        y3=torch.matmul(y2_relu,w4)+b4\n",
    "        y3_relu=F.relu(y3)\n",
    "        y4=torch.matmul(y3_relu,w5)+b5\n",
    "        y4_relu=F.relu(y4)\n",
    "        y5=torch.matmul(y4_relu,w6)+b6\n",
    "        y5_relu=F.relu(y5)\n",
    "        z=torch.matmul(y5_relu,w7)+b7\n",
    "        cross_entropy = F.cross_entropy(z, labels)\n",
    "        cross_entropy.backward(retain_graph=True)\n",
    "        optimizer.step()\n",
    "  #test set\n",
    "correct = 0\n",
    "total = len(mnist_test)\n",
    "with torch.no_grad():\n",
    "    for images, labels in test_loader:\n",
    "        x = images.view(-1, 28*28)\n",
    "        y=torch.matmul(x,w1) + b1\n",
    "        y_relu = F.relu(y)\n",
    "        y1=torch.matmul(y_relu,w2)+b2\n",
    "        y1_relu=F.relu(y1)\n",
    "        y2=torch.matmul(y1_relu,w3)+b3\n",
    "        y2_relu=F.relu(y2)\n",
    "        y3=torch.matmul(y2_relu,w4)+b4\n",
    "        y3_relu=F.relu(y3)\n",
    "        y4=torch.matmul(y3_relu,w5)+b5\n",
    "        y4_relu=F.relu(y4)\n",
    "        y5=torch.matmul(y4_relu,w6)+b6\n",
    "        y5_relu=F.relu(y5)\n",
    "        z=torch.matmul(y5_relu,w7)+b7\n",
    "        predictions = torch.argmax(z, dim=1)\n",
    "        correct += torch.sum((predictions == labels).float())\n",
    "acc_epoch.append(correct/total)\n",
    "print(correct/total)"
   ]
  },
  {
   "cell_type": "code",
   "execution_count": 58,
   "metadata": {},
   "outputs": [
    {
     "name": "stdout",
     "output_type": "stream",
     "text": [
      "tensor(0.8600)\n",
      "Wall time: 6min 46s\n"
     ]
    }
   ],
   "source": [
    "%%time\n",
    "w1=torch.randn(784,5)/np.sqrt(784)\n",
    "w1.requires_grad_()\n",
    "b1=torch.zeros(5, requires_grad=True)\n",
    "w2=torch.randn(5,12)/np.sqrt(5)\n",
    "w2.requires_grad_()\n",
    "b2=torch.zeros(12,requires_grad=True) \n",
    "w3=torch.randn(12,6)/np.sqrt(12)\n",
    "w3.requires_grad_()\n",
    "b3=torch.zeros(6,requires_grad=True) \n",
    "w4=torch.randn(6,11)/np.sqrt(6)\n",
    "w4.requires_grad_()\n",
    "b4=torch.zeros(11,requires_grad=True) \n",
    "w5=torch.randn(11,7)/np.sqrt(11)\n",
    "w5.requires_grad_()\n",
    "b5=torch.zeros(7,requires_grad=True) \n",
    "w6=torch.randn(7,10)/np.sqrt(7)\n",
    "w6.requires_grad_()\n",
    "b6=torch.zeros(10,requires_grad=True) \n",
    "w7=torch.randn(10,3)/np.sqrt(10)\n",
    "w7.requires_grad_()\n",
    "b7=torch.zeros(3,requires_grad=True) \n",
    "w8=torch.randn(3,10)/np.sqrt(3)\n",
    "w8.requires_grad_()\n",
    "b8=torch.zeros(10,requires_grad=True) \n",
    "optimizer = torch.optim.SGD([w1,b1,w2,b2,w3,b3,w4,b4,w5,b5,w6,b6,w7,b7,w8,b8], lr=0.1)\n",
    "for t in range(22):\n",
    "    for images, labels in train_loader:\n",
    "        x = images.view(-1, 28*28)\n",
    "        optimizer.zero_grad()\n",
    "        y=torch.matmul(x,w1) + b1\n",
    "        y_relu = F.relu(y)\n",
    "        y1=torch.matmul(y_relu,w2)+b2\n",
    "        y1_relu=F.relu(y1)\n",
    "        y2=torch.matmul(y1_relu,w3)+b3\n",
    "        y2_relu=F.relu(y2)\n",
    "        y3=torch.matmul(y2_relu,w4)+b4\n",
    "        y3_relu=F.relu(y3)\n",
    "        y4=torch.matmul(y3_relu,w5)+b5\n",
    "        y4_relu=F.relu(y4)\n",
    "        y5=torch.matmul(y4_relu,w6)+b6\n",
    "        y5_relu=F.relu(y5)\n",
    "        y6=torch.matmul(y5_relu,w7)+b7\n",
    "        y6_relu=F.relu(y6)\n",
    "        z=torch.matmul(y6_relu,w8)+b8\n",
    "        cross_entropy = F.cross_entropy(z, labels)\n",
    "        cross_entropy.backward(retain_graph=True)\n",
    "        optimizer.step()\n",
    "  #test set\n",
    "correct = 0\n",
    "total = len(mnist_test)\n",
    "with torch.no_grad():\n",
    "    for images, labels in test_loader:\n",
    "        x = images.view(-1, 28*28)\n",
    "        y=torch.matmul(x,w1) + b1\n",
    "        y_relu = F.relu(y)\n",
    "        y1=torch.matmul(y_relu,w2)+b2\n",
    "        y1_relu=F.relu(y1)\n",
    "        y2=torch.matmul(y1_relu,w3)+b3\n",
    "        y2_relu=F.relu(y2)\n",
    "        y3=torch.matmul(y2_relu,w4)+b4\n",
    "        y3_relu=F.relu(y3)\n",
    "        y4=torch.matmul(y3_relu,w5)+b5\n",
    "        y4_relu=F.relu(y4)\n",
    "        y5=torch.matmul(y4_relu,w6)+b6\n",
    "        y5_relu=F.relu(y5)\n",
    "        y6=torch.matmul(y5_relu,w7)+b7\n",
    "        y6_relu=F.relu(y6)\n",
    "        z=torch.matmul(y6_relu,w8)+b8\n",
    "        predictions = torch.argmax(z, dim=1)\n",
    "        correct += torch.sum((predictions == labels).float())\n",
    "acc_epoch.append(correct/total)\n",
    "print(correct/total)"
   ]
  },
  {
   "cell_type": "code",
   "execution_count": 62,
   "metadata": {},
   "outputs": [
    {
     "name": "stdout",
     "output_type": "stream",
     "text": [
      "tensor(0.1914)\n",
      "Wall time: 9min 17s\n"
     ]
    }
   ],
   "source": [
    "%%time\n",
    "w1=torch.randn(784,5)/np.sqrt(784)\n",
    "w1.requires_grad_()\n",
    "b1=torch.zeros(5, requires_grad=True)\n",
    "w2=torch.randn(5,12)/np.sqrt(5)\n",
    "w2.requires_grad_()\n",
    "b2=torch.zeros(12,requires_grad=True) \n",
    "w3=torch.randn(12,6)/np.sqrt(12)\n",
    "w3.requires_grad_()\n",
    "b3=torch.zeros(6,requires_grad=True) \n",
    "w4=torch.randn(6,11)/np.sqrt(6)\n",
    "w4.requires_grad_()\n",
    "b4=torch.zeros(11,requires_grad=True) \n",
    "w5=torch.randn(11,7)/np.sqrt(11)\n",
    "w5.requires_grad_()\n",
    "b5=torch.zeros(7,requires_grad=True) \n",
    "w6=torch.randn(7,10)/np.sqrt(7)\n",
    "w6.requires_grad_()\n",
    "b6=torch.zeros(10,requires_grad=True) \n",
    "w7=torch.randn(10,3)/np.sqrt(10)\n",
    "w7.requires_grad_()\n",
    "b7=torch.zeros(3,requires_grad=True) \n",
    "w8=torch.randn(3,6)/np.sqrt(3)\n",
    "w8.requires_grad_()\n",
    "b8=torch.zeros(6,requires_grad=True) \n",
    "w9=torch.randn(6,10)/np.sqrt(6)\n",
    "w9.requires_grad_()\n",
    "b9=torch.zeros(10,requires_grad=True) \n",
    "optimizer = torch.optim.SGD([w1,b1,w2,b2,w3,b3,w4,b4,w5,b5,w6,b6,w7,b7,w8,b8,w9,w9], lr=0.1)\n",
    "for t in range(30):\n",
    "    for images, labels in train_loader:\n",
    "        x = images.view(-1, 28*28)\n",
    "        optimizer.zero_grad()\n",
    "        y=torch.matmul(x,w1) + b1\n",
    "        y_relu = F.relu(y)\n",
    "        y1=torch.matmul(y_relu,w2)+b2\n",
    "        y1_relu=F.relu(y1)\n",
    "        y2=torch.matmul(y1_relu,w3)+b3\n",
    "        y2_relu=F.relu(y2)\n",
    "        y3=torch.matmul(y2_relu,w4)+b4\n",
    "        y3_relu=F.relu(y3)\n",
    "        y4=torch.matmul(y3_relu,w5)+b5\n",
    "        y4_relu=F.relu(y4)\n",
    "        y5=torch.matmul(y4_relu,w6)+b6\n",
    "        y5_relu=F.relu(y5)\n",
    "        y6=torch.matmul(y5_relu,w7)+b7\n",
    "        y6_relu=F.relu(y6)\n",
    "        y7=torch.matmul(y6_relu,w8)+b8\n",
    "        y7_relu=F.relu(y7)\n",
    "        z=torch.matmul(y7_relu,w9)+b9\n",
    "        cross_entropy = F.cross_entropy(z, labels)\n",
    "        cross_entropy.backward(retain_graph=True)\n",
    "        optimizer.step()\n",
    "  #test set\n",
    "correct = 0\n",
    "total = len(mnist_test)\n",
    "with torch.no_grad():\n",
    "    for images, labels in test_loader:\n",
    "        x = images.view(-1, 28*28)\n",
    "        y=torch.matmul(x,w1) + b1\n",
    "        y_relu = F.relu(y)\n",
    "        y1=torch.matmul(y_relu,w2)+b2\n",
    "        y1_relu=F.relu(y1)\n",
    "        y2=torch.matmul(y1_relu,w3)+b3\n",
    "        y2_relu=F.relu(y2)\n",
    "        y3=torch.matmul(y2_relu,w4)+b4\n",
    "        y3_relu=F.relu(y3)\n",
    "        y4=torch.matmul(y3_relu,w5)+b5\n",
    "        y4_relu=F.relu(y4)\n",
    "        y5=torch.matmul(y4_relu,w6)+b6\n",
    "        y5_relu=F.relu(y5)\n",
    "        y6=torch.matmul(y5_relu,w7)+b7\n",
    "        y6_relu=F.relu(y6)\n",
    "        y7=torch.matmul(y6_relu,w8)+b8\n",
    "        y7_relu=F.relu(y7)\n",
    "        z=torch.matmul(y7_relu,w9)+b9\n",
    "        predictions = torch.argmax(z, dim=1)\n",
    "        correct += torch.sum((predictions == labels).float())\n",
    "acc_epoch.append(correct/total)\n",
    "print(correct/total)"
   ]
  },
  {
   "cell_type": "code",
   "execution_count": 46,
   "metadata": {},
   "outputs": [],
   "source": [
    "acc=np.array(acc)\n",
    "h_layers=np.array([1,2,3,4,5,6,7,8])"
   ]
  },
  {
   "cell_type": "code",
   "execution_count": 47,
   "metadata": {},
   "outputs": [
    {
     "data": {
      "image/png": "[encoded data removed]",
      "text/plain": [
       "<Figure size 432x288 with 1 Axes>"
      ]
     },
     "metadata": {
      "needs_background": "light"
     },
     "output_type": "display_data"
    }
   ],
   "source": [
    "from matplotlib import pyplot\n",
    "pyplot.plot(h_layers,acc)\n",
    "pyplot.ylim(0.5,1)\n",
    "pyplot.title(\"Accuracy changing the hidden layers & constant epochs\")\n",
    "pyplot.show()"
   ]
  },
  {
   "cell_type": "code",
   "execution_count": 49,
   "metadata": {},
   "outputs": [
    {
     "data": {
      "image/png": "[encoded data removed]",
      "text/plain": [
       "<Figure size 432x288 with 1 Axes>"
      ]
     },
     "metadata": {
      "needs_background": "light"
     },
     "output_type": "display_data"
    }
   ],
   "source": [
    "time_4_epoch=np.array([64,65,66,65,72,76,76,78])\n",
    "pyplot.plot(h_layers,time_4_epoch)\n",
    "pyplot.ylim(50,500)\n",
    "pyplot.title(\"Execution Time\")\n",
    "pyplot.show()"
   ]
  },
  {
   "cell_type": "code",
   "execution_count": 64,
   "metadata": {},
   "outputs": [
    {
     "data": {
      "image/png": "[encoded data removed]",
      "text/plain": [
       "<Figure size 432x288 with 1 Axes>"
      ]
     },
     "metadata": {
      "needs_background": "light"
     },
     "output_type": "display_data"
    }
   ],
   "source": [
    "acc_epoch=np.array(acc_epoch)\n",
    "pyplot.plot(h_layers,acc_epoch)\n",
    "pyplot.ylim(0.1,1)\n",
    "pyplot.title(\"Accuracy changing the hidden layers & changed epochs\")\n",
    "pyplot.show()"
   ]
  },
  {
   "cell_type": "code",
   "execution_count": 66,
   "metadata": {},
   "outputs": [
    {
     "data": {
      "image/png": "[encoded data removed]",
      "text/plain": [
       "<Figure size 432x288 with 1 Axes>"
      ]
     },
     "metadata": {
      "needs_background": "light"
     },
     "output_type": "display_data"
    }
   ],
   "source": [
    "time_changed_epoch=np.array([71,120,156,191,245,317,406,557])\n",
    "pyplot.plot(h_layers,time_changed_epoch)\n",
    "pyplot.ylim(50,600)\n",
    "pyplot.title(\"Execution Time\")\n",
    "pyplot.show()"
   ]
  },
  {
   "cell_type": "code",
   "execution_count": 69,
   "metadata": {},
   "outputs": [
    {
     "data": {
      "image/png": "[encoded data removed]",
      "text/plain": [
       "<Figure size 432x288 with 1 Axes>"
      ]
     },
     "metadata": {
      "needs_background": "light"
     },
     "output_type": "display_data"
    }
   ],
   "source": [
    "pyplot.plot(h_layers,time_changed_epoch,color='b')\n",
    "pyplot.plot(h_layers,time_4_epoch,color='r')\n",
    "pyplot.ylim(0,600)\n",
    "pyplot.title(\"Execution Time\")\n",
    "pyplot.legend([\"Changing epochs\", \"4 epochs\"], loc =\"lower right\")\n",
    "pyplot.show()"
   ]
  },
  {
   "cell_type": "code",
   "execution_count": 71,
   "metadata": {},
   "outputs": [
    {
     "data": {
      "image/png": "[encoded data removed]",
      "text/plain": [
       "<Figure size 432x288 with 1 Axes>"
      ]
     },
     "metadata": {
      "needs_background": "light"
     },
     "output_type": "display_data"
    }
   ],
   "source": [
    "pyplot.plot(h_layers,acc_epoch,color='b')\n",
    "pyplot.plot(h_layers,acc,color='r')\n",
    "pyplot.ylim(0,1)\n",
    "pyplot.title(\"Accuracy changing number of hidden layers\")\n",
    "pyplot.legend([\"Changing epochs\", \"4 epochs\"], loc =\"lower right\")\n",
    "pyplot.show()"
   ]
  }
 ],
 "metadata": {
  "kernelspec": {
   "display_name": "Python 3",
   "language": "python",
   "name": "python3"
  },
  "language_info": {
   "codemirror_mode": {
    "name": "ipython",
    "version": 3
   },
   "file_extension": ".py",
   "mimetype": "text/x-python",
   "name": "python",
   "nbconvert_exporter": "python",
   "pygments_lexer": "ipython3",
   "version": "3.7.4"
  }
 },
 "nbformat": 4,
 "nbformat_minor": 4
}
