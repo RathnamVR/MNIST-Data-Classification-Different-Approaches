{
 "cells": [
  {
   "cell_type": "code",
   "execution_count": 1,
   "metadata": {},
   "outputs": [],
   "source": [
    "import numpy as np\n",
    "import torch.nn as nn\n",
    "import torch\n",
    "import torch.nn.functional as F\n",
    "from torchvision import datasets, transforms"
   ]
  },
  {
   "cell_type": "code",
   "execution_count": 10,
   "metadata": {},
   "outputs": [],
   "source": [
    "mnist_train = datasets.MNIST(root=\"./datasets\", train=True, transform=transforms.ToTensor(), download=True)\n",
    "mnist_test = datasets.MNIST(root=\"./datasets\", train=False, transform=transforms.ToTensor(), download=True)\n",
    "train_loader = torch.utils.data.DataLoader(mnist_train, batch_size=100, shuffle=True)\n",
    "test_loader = torch.utils.data.DataLoader(mnist_test, batch_size=100, shuffle=False)"
   ]
  },
  {
   "cell_type": "code",
   "execution_count": 12,
   "metadata": {},
   "outputs": [
    {
     "name": "stdout",
     "output_type": "stream",
     "text": [
      "For 0.04 learning rate accuracy = tensor(0.8649)\n",
      "For 0.085 learning rate accuracy = tensor(0.8798)\n",
      "For 0.09 learning rate accuracy = tensor(0.8892)\n",
      "For 0.095 learning rate accuracy = tensor(0.8838)\n",
      "For 0.1 learning rate accuracy = tensor(0.8889)\n",
      "For 0.15 learning rate accuracy = tensor(0.8911)\n",
      "For 0.2 learning rate accuracy = tensor(0.8978)\n",
      "For 0.25 learning rate accuracy = tensor(0.8834)\n",
      "For 0.3 learning rate accuracy = tensor(0.8198)\n",
      "For 0.4 learning rate accuracy = tensor(0.7421)\n"
     ]
    }
   ],
   "source": [
    "learning_rate=[0.04,0.085,0.09,0.095,0.1,0.15,0.2,0.25,0.3,0.4]\n",
    "acc=[]\n",
    "for t in learning_rate:\n",
    "  class MNIST_Multilayer_P(nn.Module):\n",
    "    def __init__(self):\n",
    "        super().__init__()\n",
    "        self.lin1 = nn.Linear(784,5)\n",
    "        self.lin2=nn.Linear(5,10)\n",
    "    def forward(self, x):\n",
    "        x=self.lin1(x)\n",
    "        x=F.relu(x)\n",
    "        return(self.lin2(x))\n",
    "  model=MNIST_Multilayer_P()#calling the multilayer_p model \n",
    "  croos_entropy=nn.CrossEntropyLoss()#cross_entropy loss\n",
    "  optimizer = torch.optim.SGD(model.parameters(), lr=t)#optimizer\n",
    "  for e in range(4):\n",
    "    for images, labels in train_loader:\n",
    "        x = images.view(-1, 28*28)\n",
    "        optimizer.zero_grad()\n",
    "        y=model(x)\n",
    "        loss=croos_entropy(y,labels)\n",
    "        loss.backward()\n",
    "        optimizer.step()\n",
    "  correct = 0\n",
    "  total = len(mnist_test)\n",
    "  with torch.no_grad():\n",
    "    for images, labels in test_loader:\n",
    "        x = images.view(-1, 28*28)\n",
    "        y=model(x)\n",
    "        predictions = torch.argmax(y, dim=1)\n",
    "        correct += torch.sum((predictions == labels).float())\n",
    "  acc.append(correct/total)\n",
    "  print(\"For\",t,\"learning rate accuracy =\",correct/total)"
   ]
  },
  {
   "cell_type": "code",
   "execution_count": 13,
   "metadata": {},
   "outputs": [],
   "source": [
    "learning_rate=np.array(learning_rate)\n",
    "acc=np.array(acc)"
   ]
  },
  {
   "cell_type": "code",
   "execution_count": 16,
   "metadata": {},
   "outputs": [
    {
     "data": {
      "image/png": "[encoded data removed]",
      "text/plain": [
       "<Figure size 432x288 with 1 Axes>"
      ]
     },
     "metadata": {
      "needs_background": "light"
     },
     "output_type": "display_data"
    }
   ],
   "source": [
    "from matplotlib import pyplot\n",
    "pyplot.plot(learning_rate,acc,color='b')\n",
    "pyplot.ylim(0.7,1)\n",
    "pyplot.title(\"Accuracy changing the Learning Rate\")\n",
    "pyplot.show()"
   ]
  }
 ],
 "metadata": {
  "kernelspec": {
   "display_name": "Python 3",
   "language": "python",
   "name": "python3"
  },
  "language_info": {
   "codemirror_mode": {
    "name": "ipython",
    "version": 3
   },
   "file_extension": ".py",
   "mimetype": "text/x-python",
   "name": "python",
   "nbconvert_exporter": "python",
   "pygments_lexer": "ipython3",
   "version": "3.7.4"
  }
 },
 "nbformat": 4,
 "nbformat_minor": 4
}
