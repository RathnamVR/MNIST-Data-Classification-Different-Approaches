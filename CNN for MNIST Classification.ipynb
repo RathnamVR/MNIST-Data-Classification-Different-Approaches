{
 "cells": [
  {
   "cell_type": "code",
   "execution_count": 1,
   "metadata": {},
   "outputs": [],
   "source": [
    "import numpy as np\n",
    "import torch.nn as nn\n",
    "import torch\n",
    "import torch.nn.functional as F\n",
    "from torchvision import datasets, transforms"
   ]
  },
  {
   "cell_type": "code",
   "execution_count": 68,
   "metadata": {},
   "outputs": [],
   "source": [
    "mnist_train = datasets.MNIST(root=\"./datasets\", train=True, transform=transforms.ToTensor(), download=True)\n",
    "mnist_test = datasets.MNIST(root=\"./datasets\", train=False, transform=transforms.ToTensor(), download=True)\n",
    "train_loader = torch.utils.data.DataLoader(mnist_train, batch_size=100, shuffle=True)\n",
    "test_loader = torch.utils.data.DataLoader(mnist_test, batch_size=100, shuffle=False)"
   ]
  },
  {
   "cell_type": "code",
   "execution_count": 20,
   "metadata": {},
   "outputs": [],
   "source": [
    "acc=[]"
   ]
  },
  {
   "cell_type": "code",
   "execution_count": 73,
   "metadata": {},
   "outputs": [],
   "source": [
    "#Convolutional neural network model implementation \n",
    "class MNIST_CNN(nn.Module):\n",
    "    def __init__(self):\n",
    "        super().__init__()\n",
    "        self.conv1 = nn.Conv2d(1,16, kernel_size=3, padding=1)\n",
    "        self.conv2 = nn.Conv2d(16,32, kernel_size=3, padding=1)\n",
    "        self.conv3=nn.Conv2d(32,64, kernel_size=3, padding=1)\n",
    "        self.fc1 = nn.Linear(7*7*64, 256)\n",
    "        self.fc2 = nn.Linear(256, 10)\n",
    "\n",
    "    def forward(self, x):\n",
    "        m = nn.Sigmoid()\n",
    "        x = self.conv1(x)\n",
    "        x = F.relu(x)\n",
    "        x = F.max_pool2d(x, kernel_size=2)\n",
    "        x = self.conv2(x)\n",
    "        x = F.relu(x)\n",
    "        x = F.max_pool2d(x, kernel_size=2)\n",
    "        x=self.conv3(x)\n",
    "        x=F.relu(x)\n",
    "        x = x.view(-1, 7*7*64)\n",
    "        x = self.fc1(x)\n",
    "        x = F.relu(x)\n",
    "        x = self.fc2(x)\n",
    "        return x"
   ]
  },
  {
   "cell_type": "code",
   "execution_count": 44,
   "metadata": {},
   "outputs": [],
   "source": [
    "#Adam+CrossEntropyLoss\n",
    "model=MNIST_CNN()\n",
    "cross_entropy=nn.CrossEntropyLoss()#cross_entropy loss \n",
    "optimizer=torch.optim.Adam(model.parameters(),lr=0.001)#optimizer"
   ]
  },
  {
   "cell_type": "code",
   "execution_count": 35,
   "metadata": {},
   "outputs": [
    {
     "name": "stdout",
     "output_type": "stream",
     "text": [
      "Wall time: 53.7 s\n"
     ]
    }
   ],
   "source": [
    "%%time\n",
    "#train runs \n",
    "for epoch in range(2): \n",
    "    for images, labels in train_loader:\n",
    "        optimizer.zero_grad()\n",
    "        x = images  \n",
    "        y = model(x)\n",
    "        loss =cross_entropy(y, labels)\n",
    "        loss.backward()\n",
    "        optimizer.step()\n",
    "\n",
    "#test run \n",
    "correct = 0\n",
    "total = len(mnist_test)\n",
    "with torch.no_grad():\n",
    "    for images, labels in test_loader:\n",
    "        x = images  \n",
    "        y = model(x)\n",
    "        predictions = torch.argmax(y, dim=1)\n",
    "        correct += torch.sum((predictions == labels).float())\n",
    "\n",
    "acc.append(correct/total)"
   ]
  },
  {
   "cell_type": "code",
   "execution_count": 19,
   "metadata": {},
   "outputs": [
    {
     "name": "stdout",
     "output_type": "stream",
     "text": [
      "For 1 convolutional layers accuracy= tensor(0.9787) & execution time= 123 s\n",
      "For 2 convolutional layers accuracy= tensor(0.9861) & execution time= 115 s\n",
      "For 3 convolutional layers accuracy= tensor(0.9859) & execution time= 128 s\n"
     ]
    }
   ],
   "source": [
    "time=np.array([123,115,128])\n",
    "for i in range(3):\n",
    "    print(\"For\",i+1,\"convolutional layers accuracy=\",acc[i],\"& execution time=\",time[i],\"s\")"
   ]
  },
  {
   "cell_type": "code",
   "execution_count": 40,
   "metadata": {},
   "outputs": [
    {
     "name": "stdout",
     "output_type": "stream",
     "text": [
      "For 1 convolutional layer with output channel size of 16 accuracy= tensor(0.9795) & execution time= 180.0 s\n",
      "For 1 convolutional layer with output channel size of 14 accuracy= tensor(0.9812) & execution time= 116.0 s\n",
      "For 1 convolutional layer with output channel size of 8 accuracy= tensor(0.9744) & execution time= 85.0 s\n",
      "For 1 convolutional layer with output channel size of 4 accuracy= tensor(0.9608) & execution time= 53.7 s\n"
     ]
    }
   ],
   "source": [
    "time=np.array([180,116,85,53.7])\n",
    "out=[16,14,8,4]\n",
    "for i in range(4):\n",
    "    print(\"For 1 convolutional layer with output channel size of\",out[i],\"accuracy=\",acc[i],\"& execution time=\",time[i],\"s\")"
   ]
  },
  {
   "cell_type": "code",
   "execution_count": 53,
   "metadata": {},
   "outputs": [],
   "source": [
    "#Adam+NLLoss\n",
    "model=MNIST_CNN()\n",
    "negative_loglikelihhodloos=torch.nn.NLLLoss()#negative log likelihood loss\n",
    "optimizer=torch.optim.Adam(model.parameters(),lr=0.001)#optimizer"
   ]
  },
  {
   "cell_type": "code",
   "execution_count": 54,
   "metadata": {},
   "outputs": [
    {
     "name": "stdout",
     "output_type": "stream",
     "text": [
      "Accuracy with computing NLLLoss= tensor(0.1135)\n",
      "Wall time: 2min 39s\n"
     ]
    }
   ],
   "source": [
    "%%time\n",
    "#train runs \n",
    "for epoch in range(2): \n",
    "    for images, labels in train_loader:\n",
    "        optimizer.zero_grad()\n",
    "        x = images  \n",
    "        y = model(x)\n",
    "        loss =negative_loglikelihhodloos(y, labels)\n",
    "        loss.backward()\n",
    "        optimizer.step()\n",
    "\n",
    "#test run \n",
    "correct = 0\n",
    "total = len(mnist_test)\n",
    "with torch.no_grad():\n",
    "    for images, labels in test_loader:\n",
    "        x = images  \n",
    "        y = model(x)\n",
    "        predictions = torch.argmax(y, dim=1)\n",
    "        correct += torch.sum((predictions == labels).float())\n",
    "\n",
    "print(\"Accuracy with computing NLLLoss=\",correct/total)"
   ]
  },
  {
   "cell_type": "code",
   "execution_count": 74,
   "metadata": {},
   "outputs": [],
   "source": [
    "acc_lr=[]"
   ]
  },
  {
   "cell_type": "code",
   "execution_count": 79,
   "metadata": {},
   "outputs": [],
   "source": [
    "#SGD+CrossEntropyLoss\n",
    "model=MNIST_CNN()\n",
    "cross_entropy=nn.CrossEntropyLoss()#cross_entropy loss \n",
    "optimizer=torch.optim.SGD(model.parameters(),lr=0.1)#optimizer"
   ]
  },
  {
   "cell_type": "code",
   "execution_count": 80,
   "metadata": {},
   "outputs": [
    {
     "name": "stdout",
     "output_type": "stream",
     "text": [
      "Wall time: 1min 59s\n"
     ]
    }
   ],
   "source": [
    "%%time\n",
    "#train runs \n",
    "for epoch in range(2): \n",
    "    for images, labels in train_loader:\n",
    "        optimizer.zero_grad()\n",
    "        x = images  \n",
    "        y = model(x)\n",
    "        loss =cross_entropy(y, labels)\n",
    "        loss.backward()\n",
    "        optimizer.step()\n",
    "\n",
    "#test run \n",
    "correct = 0\n",
    "total = len(mnist_test)\n",
    "with torch.no_grad():\n",
    "    for images, labels in test_loader:\n",
    "        x = images  \n",
    "        y = model(x)\n",
    "        predictions = torch.argmax(y, dim=1)\n",
    "        correct += torch.sum((predictions == labels).float())\n",
    "\n",
    "acc_lr.append(correct/total)"
   ]
  },
  {
   "cell_type": "code",
   "execution_count": 82,
   "metadata": {},
   "outputs": [
    {
     "name": "stdout",
     "output_type": "stream",
     "text": [
      "Accuracy with SGD lr 0.001 = tensor(0.1721)\n",
      "Accuracy with SGD lr 0.01 = tensor(0.9008)\n",
      "Accuracy with SGD lr 0.1 = tensor(0.9815)\n"
     ]
    }
   ],
   "source": [
    "lr=[0.001,0.01,0.1]\n",
    "for i in range(3):\n",
    "    print(\"Accuracy with SGD lr\",lr[i],\"=\",acc_lr[i])"
   ]
  },
  {
   "cell_type": "code",
   "execution_count": 108,
   "metadata": {},
   "outputs": [],
   "source": [
    "acc_batch=[]"
   ]
  },
  {
   "cell_type": "code",
   "execution_count": 122,
   "metadata": {},
   "outputs": [],
   "source": [
    "mnist_train = datasets.MNIST(root=\"./datasets\", train=True, transform=transforms.ToTensor(), download=True)\n",
    "mnist_test = datasets.MNIST(root=\"./datasets\", train=False, transform=transforms.ToTensor(), download=True)\n",
    "train_loader = torch.utils.data.DataLoader(mnist_train, batch_size=100, shuffle=True)\n",
    "test_loader = torch.utils.data.DataLoader(mnist_test, batch_size=100, shuffle=False)"
   ]
  },
  {
   "cell_type": "code",
   "execution_count": 123,
   "metadata": {},
   "outputs": [],
   "source": [
    "model=MNIST_CNN()\n",
    "cross_entropy=nn.CrossEntropyLoss()#cross_entropy loss \n",
    "optimizer=torch.optim.SGD(model.parameters(),lr=0.001)#optimizer"
   ]
  },
  {
   "cell_type": "code",
   "execution_count": 124,
   "metadata": {},
   "outputs": [
    {
     "name": "stdout",
     "output_type": "stream",
     "text": [
      "Wall time: 2min 7s\n"
     ]
    }
   ],
   "source": [
    "%%time\n",
    "#train runs \n",
    "for epoch in range(2): \n",
    "    for images, labels in train_loader:\n",
    "        optimizer.zero_grad()\n",
    "        x = images  \n",
    "        y = model(x)\n",
    "        loss =cross_entropy(y, labels)\n",
    "        loss.backward()\n",
    "        optimizer.step()\n",
    "\n",
    "#test run \n",
    "correct = 0\n",
    "total = len(mnist_test)\n",
    "with torch.no_grad():\n",
    "    for images, labels in test_loader:\n",
    "        x = images  \n",
    "        y = model(x)\n",
    "        predictions = torch.argmax(y, dim=1)\n",
    "        correct += torch.sum((predictions == labels).float())\n",
    "\n",
    "acc_batch.append(correct/total)"
   ]
  },
  {
   "cell_type": "code",
   "execution_count": 125,
   "metadata": {},
   "outputs": [
    {
     "name": "stdout",
     "output_type": "stream",
     "text": [
      "Accuracy with SGD batch size 100 = tensor(0.1404) execution time= 127\n",
      "Accuracy with SGD batch size 50 = tensor(0.2829) execution time= 161\n",
      "Accuracy with SGD batch size 10 = tensor(0.8904) execution time= 214\n"
     ]
    }
   ],
   "source": [
    "time=[127,161,214]\n",
    "batch_size=[100,50,10]\n",
    "for i in range(3):\n",
    "    print(\"Accuracy with SGD batch size\",batch_size[i],\"=\",acc_batch[i],\"execution time=\",time[i])"
   ]
  },
  {
   "cell_type": "code",
   "execution_count": 14,
   "metadata": {},
   "outputs": [
    {
     "name": "stdout",
     "output_type": "stream",
     "text": [
      "Accuracy with avg pooling= tensor(0.9856)\n",
      "Wall time: 2min 29s\n"
     ]
    }
   ],
   "source": [
    "%%time\n",
    "#train runs \n",
    "for epoch in range(2): \n",
    "    for images, labels in train_loader:\n",
    "        optimizer.zero_grad()\n",
    "        x = images  \n",
    "        y = model(x)\n",
    "        loss =cross_entropy(y, labels)\n",
    "        loss.backward()\n",
    "        optimizer.step()\n",
    "\n",
    "#test run \n",
    "correct = 0\n",
    "total = len(mnist_test)\n",
    "with torch.no_grad():\n",
    "    for images, labels in test_loader:\n",
    "        x = images  \n",
    "        y = model(x)\n",
    "        predictions = torch.argmax(y, dim=1)\n",
    "        correct += torch.sum((predictions == labels).float())\n",
    "\n",
    "print(\"Accuracy with avg pooling=\",correct/total)"
   ]
  },
  {
   "cell_type": "code",
   "execution_count": 42,
   "metadata": {},
   "outputs": [
    {
     "name": "stdout",
     "output_type": "stream",
     "text": [
      "Accuracy with Tanh activation layer= tensor(0.9860)\n",
      "Wall time: 1min 50s\n"
     ]
    }
   ],
   "source": [
    "%%time\n",
    "#train runs \n",
    "for epoch in range(2): \n",
    "    for images, labels in train_loader:\n",
    "        optimizer.zero_grad()\n",
    "        x = images  \n",
    "        y = model(x)\n",
    "        loss =cross_entropy(y, labels)\n",
    "        loss.backward()\n",
    "        optimizer.step()\n",
    "\n",
    "#test run \n",
    "correct = 0\n",
    "total = len(mnist_test)\n",
    "with torch.no_grad():\n",
    "    for images, labels in test_loader:\n",
    "        x = images  \n",
    "        y = model(x)\n",
    "        predictions = torch.argmax(y, dim=1)\n",
    "        correct += torch.sum((predictions == labels).float())\n",
    "\n",
    "print(\"Accuracy with Tanh activation layer=\",correct/total)"
   ]
  },
  {
   "cell_type": "code",
   "execution_count": 45,
   "metadata": {},
   "outputs": [
    {
     "name": "stdout",
     "output_type": "stream",
     "text": [
      "Accuracy with Sigmoid activation layer= tensor(0.9229)\n",
      "Wall time: 2min 32s\n"
     ]
    }
   ],
   "source": [
    "%%time\n",
    "#train runs \n",
    "for epoch in range(2): \n",
    "    for images, labels in train_loader:\n",
    "        optimizer.zero_grad()\n",
    "        x = images  \n",
    "        y = model(x)\n",
    "        loss =cross_entropy(y, labels)\n",
    "        loss.backward()\n",
    "        optimizer.step()\n",
    "\n",
    "#test run \n",
    "correct = 0\n",
    "total = len(mnist_test)\n",
    "with torch.no_grad():\n",
    "    for images, labels in test_loader:\n",
    "        x = images  \n",
    "        y = model(x)\n",
    "        predictions = torch.argmax(y, dim=1)\n",
    "        correct += torch.sum((predictions == labels).float())\n",
    "\n",
    "print(\"Accuracy with Sigmoid activation layer=\",correct/total)"
   ]
  }
 ],
 "metadata": {
  "kernelspec": {
   "display_name": "Python 3",
   "language": "python",
   "name": "python3"
  },
  "language_info": {
   "codemirror_mode": {
    "name": "ipython",
    "version": 3
   },
   "file_extension": ".py",
   "mimetype": "text/x-python",
   "name": "python",
   "nbconvert_exporter": "python",
   "pygments_lexer": "ipython3",
   "version": "3.7.4"
  }
 },
 "nbformat": 4,
 "nbformat_minor": 4
}
