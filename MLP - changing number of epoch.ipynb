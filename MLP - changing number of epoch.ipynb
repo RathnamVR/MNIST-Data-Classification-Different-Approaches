{
 "cells": [
  {
   "cell_type": "code",
   "execution_count": 14,
   "metadata": {},
   "outputs": [],
   "source": [
    "import torch.nn as nn"
   ]
  },
  {
   "cell_type": "code",
   "execution_count": 15,
   "metadata": {},
   "outputs": [],
   "source": [
    "import torch\n",
    "import torch.nn.functional as F\n",
    "from torchvision import datasets, transforms\n",
    "import numpy as np"
   ]
  },
  {
   "cell_type": "code",
   "execution_count": 16,
   "metadata": {},
   "outputs": [],
   "source": [
    "#download MNIST\n",
    "mnist_train = datasets.MNIST(root=\"./datasets\", train=True, transform=transforms.ToTensor(), download=True)\n",
    "mnist_test = datasets.MNIST(root=\"./datasets\", train=False, transform=transforms.ToTensor(), download=True)\n",
    "#create minibatches \n",
    "train_loader = torch.utils.data.DataLoader(mnist_train, batch_size=100, shuffle=True)\n",
    "test_loader = torch.utils.data.DataLoader(mnist_test, batch_size=100, shuffle=False)"
   ]
  },
  {
   "cell_type": "code",
   "execution_count": 17,
   "metadata": {},
   "outputs": [
    {
     "name": "stdout",
     "output_type": "stream",
     "text": [
      "For 1 epoch accuracy = tensor(0.8419)\n",
      "For 4 epoch accuracy = tensor(0.8733)\n",
      "For 6 epoch accuracy = tensor(0.8840)\n",
      "For 9 epoch accuracy = tensor(0.8903)\n",
      "For 11 epoch accuracy = tensor(0.8899)\n",
      "For 15 epoch accuracy = tensor(0.8926)\n",
      "For 18 epoch accuracy = tensor(0.8912)\n",
      "For 20 epoch accuracy = tensor(0.9020)\n",
      "For 22 epoch accuracy = tensor(0.8908)\n",
      "For 24 epoch accuracy = tensor(0.8927)\n",
      "For 27 epoch accuracy = tensor(0.8907)\n",
      "For 29 epoch accuracy = tensor(0.8964)\n",
      "For 31 epoch accuracy = tensor(0.8886)\n"
     ]
    }
   ],
   "source": [
    "epoch=[1,4,6,9,11,15,18,20,22,24,27,29,31]\n",
    "#training set\n",
    "acc=[]\n",
    "for k in epoch:\n",
    "  w1=torch.randn(784,5)/np.sqrt(784)\n",
    "  w1.requires_grad_()\n",
    "  b1=torch.zeros(5, requires_grad=True)\n",
    "  w2=torch.randn(5,10)/np.sqrt(5)\n",
    "  w2.requires_grad_()\n",
    "  b2=torch.zeros(10,requires_grad=True) \n",
    "  optimizer = torch.optim.SGD([w1,b1,w2,b2], lr=0.1)\n",
    "  for t in range(k):\n",
    "    for images, labels in train_loader:\n",
    "        x = images.view(-1, 28*28)\n",
    "        optimizer.zero_grad()\n",
    "        z=torch.zeros(100,10)\n",
    "        y=torch.matmul(x,w1) + b1\n",
    "        y_relu = F.relu(y)\n",
    "        z=torch.matmul(y_relu,w2)\n",
    "        z1=z+b2\n",
    "        cross_entropy = F.cross_entropy(z1, labels)\n",
    "        cross_entropy.backward(retain_graph=True)\n",
    "        optimizer.step()\n",
    "  #test set\n",
    "  correct = 0\n",
    "  total = len(mnist_test)\n",
    "  with torch.no_grad():\n",
    "    for images, labels in test_loader:\n",
    "        x = images.view(-1, 28*28)\n",
    "        zk=torch.zeros(100,10)\n",
    "        y=torch.matmul(x,w1) + b1\n",
    "        y_relu = F.relu(y)\n",
    "        zk=torch.matmul(y_relu,w2)\n",
    "        z1=zk+b2\n",
    "        predictions = torch.argmax(z1, dim=1)\n",
    "        correct += torch.sum((predictions == labels).float())\n",
    "  acc.append(correct/total)\n",
    "  print(\"For\",k,\"epoch accuracy =\",correct/total)"
   ]
  },
  {
   "cell_type": "code",
   "execution_count": 18,
   "metadata": {},
   "outputs": [
    {
     "name": "stdout",
     "output_type": "stream",
     "text": [
      "[0.8419 0.8733 0.884  0.8903 0.8899 0.8926 0.8912 0.902  0.8908 0.8927\n",
      " 0.8907 0.8964 0.8886]\n"
     ]
    }
   ],
   "source": [
    "epoch=np.array(epoch)\n",
    "acc=np.array(acc)\n",
    "print(acc)"
   ]
  },
  {
   "cell_type": "code",
   "execution_count": 19,
   "metadata": {},
   "outputs": [
    {
     "data": {
      "image/png": "[encoded data removed]",
      "text/plain": [
       "<Figure size 432x288 with 1 Axes>"
      ]
     },
     "metadata": {
      "needs_background": "light"
     },
     "output_type": "display_data"
    }
   ],
   "source": [
    "from matplotlib import pyplot\n",
    "pyplot.plot(epoch,acc)\n",
    "pyplot.ylim(0.5,1)\n",
    "pyplot.title(\"Accuracy changing the epochs\")\n",
    "pyplot.show()"
   ]
  }
 ],
 "metadata": {
  "kernelspec": {
   "display_name": "Python 3",
   "language": "python",
   "name": "python3"
  },
  "language_info": {
   "codemirror_mode": {
    "name": "ipython",
    "version": 3
   },
   "file_extension": ".py",
   "mimetype": "text/x-python",
   "name": "python",
   "nbconvert_exporter": "python",
   "pygments_lexer": "ipython3",
   "version": "3.7.4"
  }
 },
 "nbformat": 4,
 "nbformat_minor": 4
}
