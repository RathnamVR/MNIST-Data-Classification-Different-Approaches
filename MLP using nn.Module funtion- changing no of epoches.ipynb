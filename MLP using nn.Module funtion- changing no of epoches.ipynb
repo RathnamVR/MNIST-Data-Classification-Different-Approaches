{
 "cells": [
  {
   "cell_type": "code",
   "execution_count": 39,
   "metadata": {},
   "outputs": [],
   "source": [
    "import numpy as np\n",
    "import torch.nn as nn\n",
    "import torch\n",
    "import torch.nn.functional as F\n",
    "from torchvision import datasets, transforms"
   ]
  },
  {
   "cell_type": "code",
   "execution_count": 40,
   "metadata": {},
   "outputs": [],
   "source": [
    "mnist_train = datasets.MNIST(root=\"./datasets\", train=True, transform=transforms.ToTensor(), download=True)\n",
    "mnist_test = datasets.MNIST(root=\"./datasets\", train=False, transform=transforms.ToTensor(), download=True)\n",
    "train_loader = torch.utils.data.DataLoader(mnist_train, batch_size=100, shuffle=True)\n",
    "test_loader = torch.utils.data.DataLoader(mnist_test, batch_size=100, shuffle=False)"
   ]
  },
  {
   "cell_type": "code",
   "execution_count": 43,
   "metadata": {},
   "outputs": [],
   "source": [
    "class MNIST_Multilayer_P(nn.Module):\n",
    "    def __init__(self):\n",
    "        super().__init__()\n",
    "        self.lin1 = nn.Linear(784,5)\n",
    "        self.lin2=nn.Linear(5,10)\n",
    "    def forward(self, x):\n",
    "        x=self.lin1(x)\n",
    "        x=F.relu(x)\n",
    "        return(self.lin2(x))"
   ]
  },
  {
   "cell_type": "code",
   "execution_count": 44,
   "metadata": {},
   "outputs": [
    {
     "name": "stdout",
     "output_type": "stream",
     "text": [
      "For 1 epoch accuracy = tensor(0.8597)\n",
      "For 4 epoch accuracy = tensor(0.8755)\n",
      "For 6 epoch accuracy = tensor(0.8897)\n",
      "For 9 epoch accuracy = tensor(0.8939)\n",
      "For 11 epoch accuracy = tensor(0.8865)\n",
      "For 15 epoch accuracy = tensor(0.8941)\n",
      "For 18 epoch accuracy = tensor(0.8936)\n",
      "For 20 epoch accuracy = tensor(0.8882)\n",
      "For 22 epoch accuracy = tensor(0.9027)\n",
      "For 24 epoch accuracy = tensor(0.9015)\n",
      "For 27 epoch accuracy = tensor(0.8944)\n",
      "For 29 epoch accuracy = tensor(0.9008)\n",
      "For 31 epoch accuracy = tensor(0.9006)\n"
     ]
    }
   ],
   "source": [
    "epoch=[1,4,6,9,11,15,18,20,22,24,27,29,31]\n",
    "acc=[]\n",
    "for t in epoch:\n",
    "  model=MNIST_Multilayer_P()#calling the multilayer_p model \n",
    "  croos_entropy=nn.CrossEntropyLoss()#cross_entropy loss\n",
    "  optimizer = torch.optim.SGD(model.parameters(), lr=0.1)#optimizer\n",
    "  for e in range(t):\n",
    "    for images, labels in train_loader:\n",
    "        x = images.view(-1, 28*28)\n",
    "        optimizer.zero_grad()\n",
    "        y=model(x)\n",
    "        loss=croos_entropy(y,labels)\n",
    "        loss.backward()\n",
    "        optimizer.step()\n",
    "  correct = 0\n",
    "  total = len(mnist_test)\n",
    "  with torch.no_grad():\n",
    "    for images, labels in test_loader:\n",
    "        x = images.view(-1, 28*28)\n",
    "        y=model(x)\n",
    "        predictions = torch.argmax(y, dim=1)\n",
    "        correct += torch.sum((predictions == labels).float())\n",
    "  acc.append(correct/total)\n",
    "  print(\"For\",t,\"epoch accuracy =\",correct/total)"
   ]
  },
  {
   "cell_type": "code",
   "execution_count": 45,
   "metadata": {},
   "outputs": [],
   "source": [
    "epoch=np.array(epoch)\n",
    "acc=np.array(acc)\n",
    "acc_noAPI=np.array([0.8419,0.8733,0.884,0.8903,0.8899,0.8926,0.8912,0.902,0.8908,0.8927,0.8907,0.8964,0.8886])"
   ]
  },
  {
   "cell_type": "code",
   "execution_count": 46,
   "metadata": {},
   "outputs": [
    {
     "data": {
      "image/png": "[encoded data removed]",
      "text/plain": [
       "<Figure size 432x288 with 1 Axes>"
      ]
     },
     "metadata": {
      "needs_background": "light"
     },
     "output_type": "display_data"
    }
   ],
   "source": [
    "from matplotlib import pyplot\n",
    "pyplot.plot(epoch,acc,color='b')\n",
    "pyplot.ylim(0.5,1)\n",
    "pyplot.title(\"Accuracy changing the epochs\")\n",
    "pyplot.show()"
   ]
  },
  {
   "cell_type": "code",
   "execution_count": 47,
   "metadata": {},
   "outputs": [
    {
     "data": {
      "image/png": "[encoded data removed]",
      "text/plain": [
       "<Figure size 432x288 with 1 Axes>"
      ]
     },
     "metadata": {
      "needs_background": "light"
     },
     "output_type": "display_data"
    }
   ],
   "source": [
    "pyplot.plot(epoch,acc,color='b')\n",
    "pyplot.plot(epoch,acc_noAPI,color='r')\n",
    "pyplot.ylim(0.5,1)\n",
    "pyplot.title(\"Accuracy changing the epochs\")\n",
    "pyplot.legend([\"Using nn.Module function\", \"Building the model from basics\"], loc =\"lower right\")\n",
    "pyplot.show()\n"
   ]
  }
 ],
 "metadata": {
  "kernelspec": {
   "display_name": "Python 3",
   "language": "python",
   "name": "python3"
  },
  "language_info": {
   "codemirror_mode": {
    "name": "ipython",
    "version": 3
   },
   "file_extension": ".py",
   "mimetype": "text/x-python",
   "name": "python",
   "nbconvert_exporter": "python",
   "pygments_lexer": "ipython3",
   "version": "3.7.4"
  }
 },
 "nbformat": 4,
 "nbformat_minor": 4
}
